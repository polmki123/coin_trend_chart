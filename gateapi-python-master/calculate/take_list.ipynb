{
 "cells": [
  {
   "cell_type": "code",
   "execution_count": 10,
   "metadata": {},
   "outputs": [],
   "source": [
    "import logging\n",
    "from argparse import ArgumentParser\n",
    "\n",
    "from config import RunConfig\n",
    "from gate_api import ApiClient, Configuration, Order, SpotApi\n",
    "\n",
    "logging.basicConfig(format=\"%(asctime)s: %(message)s\", level=logging.DEBUG)\n",
    "logger = logging.getLogger(__name__)\n",
    "\n",
    "spot = SpotApi()"
   ]
  },
  {
   "cell_type": "code",
   "execution_count": 37,
   "metadata": {},
   "outputs": [
    {
     "data": {
      "text/plain": [
       "1337"
      ]
     },
     "execution_count": 37,
     "metadata": {},
     "output_type": "execute_result"
    }
   ],
   "source": [
    "# dict_token = spot.list_currencies()\n",
    "# token = []\n",
    "# for _dict_token in dict_token : \n",
    "#     token.append(  _dict_token.currency )\n",
    "\n",
    "# len(token)\n",
    "token = []\n",
    "dict_token = spot.list_tickers()\n",
    "for _dict_token in dict_token : \n",
    "    if 'USDT' in _dict_token.currency_pair  : \n",
    "        token.append(  _dict_token.currency_pair )\n",
    "    \n",
    "len(token)"
   ]
  },
  {
   "cell_type": "code",
   "execution_count": 52,
   "metadata": {},
   "outputs": [
    {
     "name": "stdout",
     "output_type": "stream",
     "text": [
      "1612450800\n",
      "1637865863\n",
      "DXCT_USDT\n"
     ]
    },
    {
     "data": {
      "text/plain": [
       "[['1636070400', '162518.88280499349', '3.695', '4.35', '3', '4.184'],\n",
       " ['1636156800', '55255.99608269999', '3.496', '3.997', '3.206', '3.694'],\n",
       " ['1636243200', '33089.04083012825', '3.441', '3.824', '3.122', '3.494'],\n",
       " ['1636329600', '33664.79566055905', '3.03', '3.634', '2.802', '3.446'],\n",
       " ['1636416000', '32998.3484028276', '2.995', '3.499', '2.5', '3.025'],\n",
       " ['1636502400', '330080.19985470571', '2.925', '3.14', '2.875', '3.042'],\n",
       " ['1636588800', '28876.9015400678', '2.966', '3.114', '2.876', '2.909'],\n",
       " ['1636675200', '63925.98739739683', '2.843', '2.992', '2.821', '2.974'],\n",
       " ['1636761600', '18896.29712498245', '2.639', '2.95', '2.559', '2.847'],\n",
       " ['1636848000', '38232.60475829829', '2.944', '2.95', '2.594', '2.64'],\n",
       " ['1636934400', '262528.5920654709', '3.198', '4.2', '2.886', '2.946'],\n",
       " ['1637020800', '54331.04318490329', '3.335', '3.4', '2.693', '3.156'],\n",
       " ['1637107200', '49901.67970651994', '3.154', '3.554', '3.068', '3.317'],\n",
       " ['1637193600', '108434.26783905621', '4.037', '4.387', '3.081', '3.156'],\n",
       " ['1637280000', '82806.24311502185', '3.91', '4.5', '3.609', '4.027'],\n",
       " ['1637366400', '119102.12096424619', '4.191', '4.48', '3.85', '3.911'],\n",
       " ['1637452800', '366432.94588649683', '5.181', '5.7', '3.976', '4.132'],\n",
       " ['1637539200', '287347.50351385152', '5.11', '5.24', '4.82', '5.219'],\n",
       " ['1637625600', '855977.98346089842', '6.076', '6.993', '4.9', '5.095'],\n",
       " ['1637712000', '459601.08209586896', '5.539', '6.647', '5.235', '6.077'],\n",
       " ['1637798400', '341334.21740271421', '5.787', '6.3', '5.198', '5.58']]"
      ]
     },
     "execution_count": 52,
     "metadata": {},
     "output_type": "execute_result"
    }
   ],
   "source": [
    "import time\n",
    "import datetime\n",
    "\n",
    "s = \"05/02/2021\"\n",
    "start_time = int ( time.mktime(datetime.datetime.strptime(s, \"%d/%m/%Y\").timetuple()) )\n",
    "print(start_time)\n",
    "print(int(time.time()))\n",
    "print(token[0])\n",
    "# spot.list_candlesticks( currency_pair = token[0], limit = 500, _from = int(start_time), to= int(time.time()) , interval = '1d' )\n",
    "spot.list_candlesticks( currency_pair = token[0], limit = 500, interval = '1d' )\n",
    "\n",
    "# '일'  '총 거래 대금' '종가' '고가' 저가' '시작가'\n",
    "#['1636070400', '162518.88280499349', '3.695', '4.35', '3', '4.184']"
   ]
  },
  {
   "cell_type": "code",
   "execution_count": null,
   "metadata": {},
   "outputs": [],
   "source": []
  }
 ],
 "metadata": {
  "interpreter": {
   "hash": "2c135e62ec483ca26e362e6f10a690854d3c7bb358edccd500158165a046d0fe"
  },
  "kernelspec": {
   "display_name": "Python 3.7.6 64-bit ('StockTrader': conda)",
   "language": "python",
   "name": "python3"
  },
  "language_info": {
   "codemirror_mode": {
    "name": "ipython",
    "version": 3
   },
   "file_extension": ".py",
   "mimetype": "text/x-python",
   "name": "python",
   "nbconvert_exporter": "python",
   "pygments_lexer": "ipython3",
   "version": "3.7.6"
  },
  "orig_nbformat": 4
 },
 "nbformat": 4,
 "nbformat_minor": 2
}

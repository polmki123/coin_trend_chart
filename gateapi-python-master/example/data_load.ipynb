{
 "cells": [
  {
   "cell_type": "code",
   "execution_count": 1,
   "metadata": {},
   "outputs": [],
   "source": [
    "# !/usr/bin/env python\n",
    "# coding: utf-8\n",
    "import logging\n",
    "import random\n",
    "from decimal import Decimal as D, ROUND_UP, getcontext\n",
    "\n",
    "from gate_api import ApiClient, Configuration, Loan, MarginApi, Order, RepayRequest, SpotApi, Transfer, WalletApi\n",
    "from gate_api.exceptions import GateApiException\n",
    "\n",
    "from config import RunConfig\n"
   ]
  },
  {
   "cell_type": "code",
   "execution_count": 14,
   "metadata": {},
   "outputs": [
    {
     "name": "stdout",
     "output_type": "stream",
     "text": [
      "currency pair BTC_USDT last price 48344.93\n"
     ]
    }
   ],
   "source": [
    "currency_pair = 'BTC_USDT'\n",
    "currency = currency_pair.split(\"_\")[1]\n",
    "\n",
    "# Initialize API client\n",
    "# Setting host is optional. It defaults to https://api.gateio.ws/api/v4\n",
    "config = Configuration(key=\"\", secret=\"\")\n",
    "spot_api = SpotApi(ApiClient(config))\n",
    "\n",
    "# retrieve currency pair last price\n",
    " \n",
    "tickers = spot_api.list_tickers(currency_pair=currency_pair)\n",
    "assert len(tickers) == 1\n",
    "last_price = tickers[0].last\n",
    "print( f\"currency pair {currency_pair} last price {last_price}\" )\n"
   ]
  },
  {
   "cell_type": "code",
   "execution_count": 2,
   "metadata": {},
   "outputs": [],
   "source": [
    "config = Configuration(key=\"\", secret=\"\")\n",
    "spot_api = SpotApi(ApiClient(config))"
   ]
  },
  {
   "cell_type": "code",
   "execution_count": 3,
   "metadata": {},
   "outputs": [
    {
     "name": "stdout",
     "output_type": "stream",
     "text": [
      "1372\n",
      "DXCT_USDT\n"
     ]
    }
   ],
   "source": [
    "pair = spot_api.list_tickers()\n",
    "ticker = []\n",
    "for _pair in pair :\n",
    "    if 'USDT' in _pair.currency_pair :\n",
    "        ticker.append( _pair.currency_pair )\n",
    "print( len( ticker ) )\n",
    "print( ticker[0])"
   ]
  },
  {
   "cell_type": "code",
   "execution_count": 5,
   "metadata": {},
   "outputs": [
    {
     "name": "stdout",
     "output_type": "stream",
     "text": [
      "1633359600\n",
      "1638630815\n",
      "DXCT_USDT\n",
      "1633359600\n",
      "29\n",
      "[['1636156800', '55255.99608269999', '3.496', '3.997', '3.206', '3.694'], ['1636243200', '33089.04083012825', '3.441', '3.824', '3.122', '3.494'], ['1636329600', '33664.79566055905', '3.03', '3.634', '2.802', '3.446'], ['1636416000', '32998.3484028276', '2.995', '3.499', '2.5', '3.025'], ['1636502400', '330080.19985470571', '2.925', '3.14', '2.875', '3.042'], ['1636588800', '28876.9015400678', '2.966', '3.114', '2.876', '2.909'], ['1636675200', '63925.98739739683', '2.843', '2.992', '2.821', '2.974'], ['1636761600', '18896.29712498245', '2.639', '2.95', '2.559', '2.847'], ['1636848000', '38232.60475829829', '2.944', '2.95', '2.594', '2.64'], ['1636934400', '261574.8225510504', '3.198', '4.2', '2.886', '2.946'], ['1637020800', '54331.04318490329', '3.335', '3.4', '2.693', '3.156'], ['1637107200', '49901.67970651994', '3.154', '3.554', '3.068', '3.317'], ['1637193600', '108434.26783905621', '4.037', '4.387', '3.081', '3.156'], ['1637280000', '82806.24311502185', '3.91', '4.5', '3.609', '4.027'], ['1637366400', '119102.12096424619', '4.191', '4.48', '3.85', '3.911'], ['1637452800', '366432.94588649683', '5.181', '5.7', '3.976', '4.132'], ['1637539200', '287347.50351385152', '5.11', '5.24', '4.82', '5.219'], ['1637625600', '855977.98346089842', '6.076', '6.993', '4.9', '5.095'], ['1637712000', '459601.08209586896', '5.539', '6.647', '5.235', '6.077'], ['1637798400', '401627.43334052283', '6.041', '6.3', '5.198', '5.58'], ['1637884800', '385968.02767994971', '5.558', '6.1', '4.25', '6.058'], ['1637971200', '129630.57416986776', '5.278', '5.824', '4.769', '5.604'], ['1638057600', '123142.04789300972', '5.947', '6', '4.922', '5.273'], ['1638144000', '682752.331535323', '8.193', '9.241', '5.664', '5.999'], ['1638230400', '412023.50333107627', '9.359', '9.88', '7.462', '8.213'], ['1638316800', '418339.43966533294', '10.018', '10.944', '9', '9.359'], ['1638403200', '367075.16449341376', '9.274', '10.199', '8.2', '10.02'], ['1638489600', '160237.80754199353', '8.558', '9.844', '8.012', '9.284'], ['1638576000', '194269.35159343209', '8.157', '8.84', '6.7', '8.426']]\n"
     ]
    }
   ],
   "source": [
    "import time\n",
    "import datetime\n",
    "\n",
    "s = \"05/10/2021\"\n",
    "start_time = int ( time.mktime(datetime.datetime.strptime(s, \"%d/%m/%Y\").timetuple()) )\n",
    "print(start_time)\n",
    "print(int(time.time()))\n",
    "print(ticker[0])\n",
    "# interval\t4h\n",
    "# interval\t8h\n",
    "# interval\t1d\n",
    "data = spot_api.kline_list_candletrade( currency_pair = ticker[0], interval = '1d' )\n",
    "print( len(data) )\n",
    "print( data )\n",
    "# 'time'  '총 거래 대금' '종가' '고가' 저가' '시작가'\n",
    "#['1636070400', '162518.88280499349', '3.695', '4.35', '3', '4.184']"
   ]
  }
 ],
 "metadata": {
  "interpreter": {
   "hash": "2c135e62ec483ca26e362e6f10a690854d3c7bb358edccd500158165a046d0fe"
  },
  "kernelspec": {
   "display_name": "Python 3.7.6 64-bit ('StockTrader': conda)",
   "language": "python",
   "name": "python3"
  },
  "language_info": {
   "codemirror_mode": {
    "name": "ipython",
    "version": 3
   },
   "file_extension": ".py",
   "mimetype": "text/x-python",
   "name": "python",
   "nbconvert_exporter": "python",
   "pygments_lexer": "ipython3",
   "version": "3.7.6"
  },
  "orig_nbformat": 4
 },
 "nbformat": 4,
 "nbformat_minor": 2
}

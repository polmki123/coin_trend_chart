{
 "cells": [
  {
   "cell_type": "code",
   "execution_count": 1,
   "metadata": {},
   "outputs": [],
   "source": [
    "# !/usr/bin/env python\n",
    "# coding: utf-8\n",
    "import logging\n",
    "import random\n",
    "import os\n",
    "import csv\n",
    "import numpy as np\n",
    "import pandas as pd\n",
    "import datetime \n",
    "import sys\n",
    "import time\n",
    "import threading\n",
    "import concurrent.futures\n",
    "import sqlite3\n",
    "\n",
    "from decimal import Decimal as D, ROUND_UP, getcontext\n",
    "\n",
    "from gate_api import ApiClient, Configuration, Loan, MarginApi, Order, RepayRequest, SpotApi, Transfer, WalletApi\n",
    "from gate_api.exceptions import GateApiException"
   ]
  },
  {
   "cell_type": "code",
   "execution_count": 2,
   "metadata": {},
   "outputs": [],
   "source": [
    "class Accumerate_data :\n",
    "    \n",
    "    config = Configuration(key=\"\", secret=\"\")\n",
    "    spot_api = SpotApi(ApiClient(config))\n",
    "\n",
    "    def __init__(self, ticker, interval= '1d'):\n",
    "        self.ticker = ticker\n",
    "        self.interval = str(interval)\n",
    "        current_path = os.path.dirname('__file__')\n",
    "        self.home = os.path.join( current_path, 'gate_Dt' ) \n",
    "        if not os.path.exists( os.path.join( self.home, interval) ): os.makedirs( os.path.join( self.home, interval) )\n",
    "\n",
    "    def _set_data(self, ticker, interval):\n",
    "        con = sqlite3.connect( os.path.join( self.home , interval, \"data.db\") )\n",
    "        cur = con.cursor()\n",
    "        try :\n",
    "            query = cur.execute(\"SELECT * FROM %s ORDER BY date desc LIMIT 1;\" % ( ('\\'' + ticker + '\\'')  ))\n",
    "            before = query.fetchall()[0][0]\n",
    "        except :\n",
    "            before = None\n",
    "        yesterday = datetime.datetime.today() - datetime.timedelta(60)\n",
    "        yesterday = int ( time.mktime ( yesterday.timetuple() ) )\n",
    "        print(yesterday)\n",
    "        current  = self.spot_api.kline_list_candletrade(currency_pair = ticker, interval = interval, _from = yesterday)\n",
    "        print( \"current len \" , len(current))\n",
    "        return before, current\n",
    "\n",
    "    @classmethod\n",
    "    def rebuild_data(cls, data):\n",
    "        # 'time'  '총 거래 대금' '종가' '고가' 저가' '시작가'\n",
    "        #['1636070400', '162518.88280499349', '3.695', '4.35', '3', '4.184']\n",
    "        data = pd.DataFrame( data = \n",
    "                                        {\n",
    "                                            'date'                  : [ float(i[0 ]) for i in data] ,\n",
    "                                            'Volume'                : [ float(i[1 ]) for i in data] ,\n",
    "                                            'close'                 : [ float(i[2 ]) for i in data] ,\n",
    "                                            'High'                  : [ float(i[3 ]) for i in data] , \n",
    "                                            'Low'                   : [ float(i[4 ]) for i in data] ,\n",
    "                                            'open'                  : [ float(i[5 ]) for i in data] ,\n",
    "                                        }\n",
    "                                   )\n",
    "        data = data.set_index('date')\n",
    "        return data\n",
    "\n",
    "    @staticmethod\n",
    "    def printALL(data):\n",
    "        print( 'data', len(data)   )\n",
    "        print( data[-1])\n",
    "\n",
    "    def cmp_time_Data(self, before, current, interval, ticker):\n",
    "        # try :\n",
    "        last_time = datetime.datetime.fromtimestamp( before )\n",
    "        Add_Time  = datetime.datetime.fromtimestamp( current.index[-1] )\n",
    "        now       = datetime.datetime.now()\n",
    "\n",
    "        print('last_time',last_time, 'Add_Time', Add_Time)\n",
    "        print(interval)\n",
    "\n",
    "        if 'm' in self.interval :\n",
    "            minutes_rest = now.minute % int(self.interval.replace('m',''))\n",
    "            now = now - datetime.timedelta(minutes=minutes_rest) \n",
    "            if Add_Time > last_time and Add_Time.hour == now.hour and Add_Time.minute == now.minute and Add_Time.day == now.day :\n",
    "                print(\"save new Data\")\n",
    "                self.writeFile(interval, before, current.iloc[: -1], ticker)\n",
    "                return True\n",
    "        elif 'h' in self.interval :\n",
    "            hour_rest = now.hour % int(self.interval.replace('h',''))\n",
    "            now = now - datetime.timedelta(hours=hour_rest) \n",
    "            if Add_Time > last_time and Add_Time.hour == now.hour and Add_Time.day == now.day :\n",
    "                print(\"save new Data\")\n",
    "                self.writeFile(interval, before, current.iloc[: -1], ticker)\n",
    "                return True\n",
    "        elif 'd' in self.interval :\n",
    "            day_rest = now.day % int(self.interval.replace('d',''))\n",
    "            now = now - datetime.timedelta(days=day_rest) \n",
    "            if Add_Time > last_time and Add_Time.day == now.day :\n",
    "                print(\"save new Data\")\n",
    "                self.writeFile(interval, before, current.iloc[: -1], ticker)\n",
    "                return True\n",
    "\n",
    "        if Add_Time > last_time :\n",
    "            print(\"시간은 같지만 현재 최근값 \")\n",
    "            self.writeFile(interval, before, current , ticker)\n",
    "            return True\n",
    "\n",
    "        return False\n",
    "\n",
    "    def writeFile(self, interval, before, current, ticker):\n",
    "        print(ticker)\n",
    "        con = sqlite3.connect( os.path.join( self.home , interval, \"data.db\") )\n",
    "        last_time = datetime.datetime.fromtimestamp( before ) \n",
    "        for i in range(0, len(current)) :\n",
    "            new = datetime.datetime.fromtimestamp( current.index[i] )  \n",
    "            if new > last_time :\n",
    "                # print(current.iloc[i:])\n",
    "                current.iloc[i:].astype('float32').to_sql(ticker, con, if_exists='append')\n",
    "                break\n",
    "\n",
    "    def NewFile(self, interval, current, ticker):\n",
    "        print(\"new data save\")\n",
    "        con = sqlite3.connect( os.path.join( self.home , interval, \"data.db\") )\n",
    "        current.iloc[: -1].astype('float32').to_sql(ticker, con, if_exists='append')\n",
    "        return True\n",
    "\n",
    "    def write_real_data(self, ticker, interval):\n",
    "        before, current = self._set_data(ticker, self.interval)\n",
    "        current = self.rebuild_data(current)\n",
    "        if before == None :\n",
    "            return self.NewFile(interval, current, ticker)\n",
    "        return self.cmp_time_Data(before, current, self.interval, ticker )\n",
    "\n",
    "    def make_ticker(self, Market_Coin) :\n",
    "        trade_coin = []\n",
    "        for _ticker in Market_Coin : \n",
    "            print(_ticker)\n",
    "            while 1 :\n",
    "                try :\n",
    "                    self.write_real_data(_ticker, self.interval )\n",
    "                    trade_coin.append(_ticker)\n",
    "                    break\n",
    "                except :\n",
    "                    print(\"wait a moment\")\n",
    "                    time.sleep(10)\n",
    "                    self.write_real_data(_ticker, self.interval )\n",
    "                    trade_coin.append(_ticker)\n",
    "                    break\n",
    "\n",
    "        return trade_coin\n",
    "\n",
    "    def start(self):\n",
    "        check_p = 0\n",
    "        trade_coin = []\n",
    "        trade_coin = self.make_ticker(self.ticker)\n",
    "        return trade_coin"
   ]
  },
  {
   "cell_type": "code",
   "execution_count": 10,
   "metadata": {},
   "outputs": [],
   "source": [
    "def ts_to_date(_date):\n",
    "    _date = datetime.datetime.fromtimestamp(_date)\n",
    "    format = '%Y-%m-%d %H:%M:%S'\n",
    "    str_datetime = datetime.datetime.strftime(_date,format)\n",
    "    return str_datetime\n",
    "\n",
    "def rebuild_data( data):\n",
    "    # 'time'  '총 거래 대금' '종가' '고가' 저가' '시작가'\n",
    "    #['1636070400', '162518.88280499349', '3.695', '4.35', '3', '4.184']\n",
    "    data = pd.DataFrame( data = \n",
    "                                    {\n",
    "                                        'date'                  : [ ts_to_date(float(i[0 ]))  for i in data] ,\n",
    "                                        'Volume'                : [ float(i[1 ]) for i in data] ,\n",
    "                                        'close'                 : [ float(i[2 ]) for i in data] ,\n",
    "                                        'High'                  : [ float(i[3 ]) for i in data] , \n",
    "                                        'Low'                   : [ float(i[4 ]) for i in data] ,\n",
    "                                        'open'                  : [ float(i[5 ]) for i in data] ,\n",
    "                                    }\n",
    "                                )\n",
    "    data = data.set_index('date')\n",
    "    return data"
   ]
  },
  {
   "cell_type": "code",
   "execution_count": 3,
   "metadata": {},
   "outputs": [
    {
     "name": "stdout",
     "output_type": "stream",
     "text": [
      "1502\n"
     ]
    }
   ],
   "source": [
    "config = Configuration(key=\"\", secret=\"\")\n",
    "spot_api = SpotApi(ApiClient(config))\n",
    "pair = spot_api.list_tickers()\n",
    "ticker = []\n",
    "for _pair in pair :\n",
    "    if 'USDT' in _pair.currency_pair :\n",
    "        ticker.append( _pair.currency_pair )\n",
    "print( len( ticker ) )\n"
   ]
  },
  {
   "cell_type": "code",
   "execution_count": 7,
   "metadata": {},
   "outputs": [
    {
     "ename": "GateApiException",
     "evalue": "(400)\nReason: Bad Request\nHTTP response headers: HTTPHeaderDict({'Date': 'Sun, 06 Feb 2022 04:43:24 GMT', 'Content-Type': 'application/json', 'Content-Length': '121', 'Connection': 'keep-alive', 'Server': 'openresty', 'X-Request-Id': '[7ec88f17-4489354903]'})\nHTTP response body: {\"label\":\"INVALID_PARAM_VALUE\",\"message\":\"Candlestick range too broad. Maximum 1000 data points are allowed per request\"}\n",
     "output_type": "error",
     "traceback": [
      "\u001b[1;31m---------------------------------------------------------------------------\u001b[0m",
      "\u001b[1;31mApiException\u001b[0m                              Traceback (most recent call last)",
      "\u001b[1;32m~\\Anaconda3\\envs\\StockTrader\\lib\\site-packages\\gate_api-4.22.4-py3.7.egg\\gate_api\\api_client.py\u001b[0m in \u001b[0;36m__call_api\u001b[1;34m(self, resource_path, method, path_params, query_params, header_params, body, post_params, files, response_type, auth_settings, _return_http_data_only, collection_formats, _preload_content, _request_timeout, _host)\u001b[0m\n\u001b[0;32m    197\u001b[0m                 \u001b[0m_preload_content\u001b[0m\u001b[1;33m=\u001b[0m\u001b[0m_preload_content\u001b[0m\u001b[1;33m,\u001b[0m\u001b[1;33m\u001b[0m\u001b[1;33m\u001b[0m\u001b[0m\n\u001b[1;32m--> 198\u001b[1;33m                 \u001b[0m_request_timeout\u001b[0m\u001b[1;33m=\u001b[0m\u001b[0m_request_timeout\u001b[0m\u001b[1;33m,\u001b[0m\u001b[1;33m\u001b[0m\u001b[1;33m\u001b[0m\u001b[0m\n\u001b[0m\u001b[0;32m    199\u001b[0m             )\n",
      "\u001b[1;32m~\\Anaconda3\\envs\\StockTrader\\lib\\site-packages\\gate_api-4.22.4-py3.7.egg\\gate_api\\api_client.py\u001b[0m in \u001b[0;36mrequest\u001b[1;34m(self, method, url, query_params, headers, post_params, body, _preload_content, _request_timeout)\u001b[0m\n\u001b[0;32m    451\u001b[0m                 \u001b[0m_request_timeout\u001b[0m\u001b[1;33m=\u001b[0m\u001b[0m_request_timeout\u001b[0m\u001b[1;33m,\u001b[0m\u001b[1;33m\u001b[0m\u001b[1;33m\u001b[0m\u001b[0m\n\u001b[1;32m--> 452\u001b[1;33m                 \u001b[0mheaders\u001b[0m\u001b[1;33m=\u001b[0m\u001b[0mheaders\u001b[0m\u001b[1;33m,\u001b[0m\u001b[1;33m\u001b[0m\u001b[1;33m\u001b[0m\u001b[0m\n\u001b[0m\u001b[0;32m    453\u001b[0m             )\n",
      "\u001b[1;32m~\\Anaconda3\\envs\\StockTrader\\lib\\site-packages\\gate_api-4.22.4-py3.7.egg\\gate_api\\rest.py\u001b[0m in \u001b[0;36mGET\u001b[1;34m(self, url, headers, query_params, _preload_content, _request_timeout)\u001b[0m\n\u001b[0;32m    242\u001b[0m             \u001b[0m_request_timeout\u001b[0m\u001b[1;33m=\u001b[0m\u001b[0m_request_timeout\u001b[0m\u001b[1;33m,\u001b[0m\u001b[1;33m\u001b[0m\u001b[1;33m\u001b[0m\u001b[0m\n\u001b[1;32m--> 243\u001b[1;33m             \u001b[0mquery_params\u001b[0m\u001b[1;33m=\u001b[0m\u001b[0mquery_params\u001b[0m\u001b[1;33m,\u001b[0m\u001b[1;33m\u001b[0m\u001b[1;33m\u001b[0m\u001b[0m\n\u001b[0m\u001b[0;32m    244\u001b[0m         )\n",
      "\u001b[1;32m~\\Anaconda3\\envs\\StockTrader\\lib\\site-packages\\gate_api-4.22.4-py3.7.egg\\gate_api\\rest.py\u001b[0m in \u001b[0;36mrequest\u001b[1;34m(self, method, url, query_params, headers, body, post_params, _preload_content, _request_timeout)\u001b[0m\n\u001b[0;32m    231\u001b[0m         \u001b[1;32mif\u001b[0m \u001b[1;32mnot\u001b[0m \u001b[1;36m200\u001b[0m \u001b[1;33m<=\u001b[0m \u001b[0mr\u001b[0m\u001b[1;33m.\u001b[0m\u001b[0mstatus\u001b[0m \u001b[1;33m<=\u001b[0m \u001b[1;36m299\u001b[0m\u001b[1;33m:\u001b[0m\u001b[1;33m\u001b[0m\u001b[1;33m\u001b[0m\u001b[0m\n\u001b[1;32m--> 232\u001b[1;33m             \u001b[1;32mraise\u001b[0m \u001b[0mApiException\u001b[0m\u001b[1;33m(\u001b[0m\u001b[0mhttp_resp\u001b[0m\u001b[1;33m=\u001b[0m\u001b[0mr\u001b[0m\u001b[1;33m)\u001b[0m\u001b[1;33m\u001b[0m\u001b[1;33m\u001b[0m\u001b[0m\n\u001b[0m\u001b[0;32m    233\u001b[0m \u001b[1;33m\u001b[0m\u001b[0m\n",
      "\u001b[1;31mApiException\u001b[0m: (400)\nReason: Bad Request\nHTTP response headers: HTTPHeaderDict({'Date': 'Sun, 06 Feb 2022 04:43:24 GMT', 'Content-Type': 'application/json', 'Content-Length': '121', 'Connection': 'keep-alive', 'Server': 'openresty', 'X-Request-Id': '[7ec88f17-4489354903]'})\nHTTP response body: {\"label\":\"INVALID_PARAM_VALUE\",\"message\":\"Candlestick range too broad. Maximum 1000 data points are allowed per request\"}\n",
      "\nDuring handling of the above exception, another exception occurred:\n",
      "\u001b[1;31mGateApiException\u001b[0m                          Traceback (most recent call last)",
      "\u001b[1;32m<ipython-input-7-ddf2f914fd05>\u001b[0m in \u001b[0;36m<module>\u001b[1;34m\u001b[0m\n\u001b[0;32m      7\u001b[0m                 \u001b[0minterval\u001b[0m\u001b[1;33m=\u001b[0m\u001b[1;34m'4h'\u001b[0m\u001b[1;33m,\u001b[0m\u001b[1;33m\u001b[0m\u001b[1;33m\u001b[0m\u001b[0m\n\u001b[0;32m      8\u001b[0m                 \u001b[0m_from\u001b[0m\u001b[1;33m=\u001b[0m\u001b[0myesterday\u001b[0m\u001b[1;33m,\u001b[0m\u001b[1;33m\u001b[0m\u001b[1;33m\u001b[0m\u001b[0m\n\u001b[1;32m----> 9\u001b[1;33m                 \u001b[0mlimit\u001b[0m \u001b[1;33m=\u001b[0m \u001b[1;36m500\u001b[0m\u001b[1;33m\u001b[0m\u001b[1;33m\u001b[0m\u001b[0m\n\u001b[0m\u001b[0;32m     10\u001b[0m             )\n\u001b[0;32m     11\u001b[0m \u001b[0mcurrent\u001b[0m \u001b[1;33m=\u001b[0m \u001b[0mrebuild_data\u001b[0m\u001b[1;33m(\u001b[0m\u001b[0mcurrent\u001b[0m\u001b[1;33m)\u001b[0m\u001b[1;33m\u001b[0m\u001b[1;33m\u001b[0m\u001b[0m\n",
      "\u001b[1;32m~\\Anaconda3\\envs\\StockTrader\\lib\\site-packages\\gate_api-4.22.4-py3.7.egg\\gate_api\\api\\spot_api.py\u001b[0m in \u001b[0;36mlist_candlesticks\u001b[1;34m(self, currency_pair, **kwargs)\u001b[0m\n\u001b[0;32m    873\u001b[0m         \"\"\"\n\u001b[0;32m    874\u001b[0m         \u001b[0mkwargs\u001b[0m\u001b[1;33m[\u001b[0m\u001b[1;34m'_return_http_data_only'\u001b[0m\u001b[1;33m]\u001b[0m \u001b[1;33m=\u001b[0m \u001b[1;32mTrue\u001b[0m\u001b[1;33m\u001b[0m\u001b[1;33m\u001b[0m\u001b[0m\n\u001b[1;32m--> 875\u001b[1;33m         \u001b[1;32mreturn\u001b[0m \u001b[0mself\u001b[0m\u001b[1;33m.\u001b[0m\u001b[0mlist_candlesticks_with_http_info\u001b[0m\u001b[1;33m(\u001b[0m\u001b[0mcurrency_pair\u001b[0m\u001b[1;33m,\u001b[0m \u001b[1;33m**\u001b[0m\u001b[0mkwargs\u001b[0m\u001b[1;33m)\u001b[0m  \u001b[1;31m# noqa: E501\u001b[0m\u001b[1;33m\u001b[0m\u001b[1;33m\u001b[0m\u001b[0m\n\u001b[0m\u001b[0;32m    876\u001b[0m \u001b[1;33m\u001b[0m\u001b[0m\n\u001b[0;32m    877\u001b[0m     \u001b[1;32mdef\u001b[0m \u001b[0mlist_candlesticks_with_http_info\u001b[0m\u001b[1;33m(\u001b[0m\u001b[0mself\u001b[0m\u001b[1;33m,\u001b[0m \u001b[0mcurrency_pair\u001b[0m\u001b[1;33m,\u001b[0m \u001b[1;33m**\u001b[0m\u001b[0mkwargs\u001b[0m\u001b[1;33m)\u001b[0m\u001b[1;33m:\u001b[0m  \u001b[1;31m# noqa: E501\u001b[0m\u001b[1;33m\u001b[0m\u001b[1;33m\u001b[0m\u001b[0m\n",
      "\u001b[1;32m~\\Anaconda3\\envs\\StockTrader\\lib\\site-packages\\gate_api-4.22.4-py3.7.egg\\gate_api\\api\\spot_api.py\u001b[0m in \u001b[0;36mlist_candlesticks_with_http_info\u001b[1;34m(self, currency_pair, **kwargs)\u001b[0m\n\u001b[0;32m    981\u001b[0m             \u001b[0m_preload_content\u001b[0m\u001b[1;33m=\u001b[0m\u001b[0mlocal_var_params\u001b[0m\u001b[1;33m.\u001b[0m\u001b[0mget\u001b[0m\u001b[1;33m(\u001b[0m\u001b[1;34m'_preload_content'\u001b[0m\u001b[1;33m,\u001b[0m \u001b[1;32mTrue\u001b[0m\u001b[1;33m)\u001b[0m\u001b[1;33m,\u001b[0m\u001b[1;33m\u001b[0m\u001b[1;33m\u001b[0m\u001b[0m\n\u001b[0;32m    982\u001b[0m             \u001b[0m_request_timeout\u001b[0m\u001b[1;33m=\u001b[0m\u001b[0mlocal_var_params\u001b[0m\u001b[1;33m.\u001b[0m\u001b[0mget\u001b[0m\u001b[1;33m(\u001b[0m\u001b[1;34m'_request_timeout'\u001b[0m\u001b[1;33m)\u001b[0m\u001b[1;33m,\u001b[0m\u001b[1;33m\u001b[0m\u001b[1;33m\u001b[0m\u001b[0m\n\u001b[1;32m--> 983\u001b[1;33m             \u001b[0mcollection_formats\u001b[0m\u001b[1;33m=\u001b[0m\u001b[0mcollection_formats\u001b[0m\u001b[1;33m,\u001b[0m\u001b[1;33m\u001b[0m\u001b[1;33m\u001b[0m\u001b[0m\n\u001b[0m\u001b[0;32m    984\u001b[0m         )\n\u001b[0;32m    985\u001b[0m \u001b[1;33m\u001b[0m\u001b[0m\n",
      "\u001b[1;32m~\\Anaconda3\\envs\\StockTrader\\lib\\site-packages\\gate_api-4.22.4-py3.7.egg\\gate_api\\api_client.py\u001b[0m in \u001b[0;36mcall_api\u001b[1;34m(self, resource_path, method, path_params, query_params, header_params, body, post_params, files, response_type, auth_settings, async_req, _return_http_data_only, collection_formats, _preload_content, _request_timeout, _host)\u001b[0m\n\u001b[0;32m    408\u001b[0m                 \u001b[0m_preload_content\u001b[0m\u001b[1;33m,\u001b[0m\u001b[1;33m\u001b[0m\u001b[1;33m\u001b[0m\u001b[0m\n\u001b[0;32m    409\u001b[0m                 \u001b[0m_request_timeout\u001b[0m\u001b[1;33m,\u001b[0m\u001b[1;33m\u001b[0m\u001b[1;33m\u001b[0m\u001b[0m\n\u001b[1;32m--> 410\u001b[1;33m                 \u001b[0m_host\u001b[0m\u001b[1;33m,\u001b[0m\u001b[1;33m\u001b[0m\u001b[1;33m\u001b[0m\u001b[0m\n\u001b[0m\u001b[0;32m    411\u001b[0m             )\n\u001b[0;32m    412\u001b[0m \u001b[1;33m\u001b[0m\u001b[0m\n",
      "\u001b[1;32m~\\Anaconda3\\envs\\StockTrader\\lib\\site-packages\\gate_api-4.22.4-py3.7.egg\\gate_api\\api_client.py\u001b[0m in \u001b[0;36m__call_api\u001b[1;34m(self, resource_path, method, path_params, query_params, header_params, body, post_params, files, response_type, auth_settings, _return_http_data_only, collection_formats, _preload_content, _request_timeout, _host)\u001b[0m\n\u001b[0;32m    207\u001b[0m                 \u001b[1;32mif\u001b[0m \u001b[1;32mnot\u001b[0m \u001b[0merr\u001b[0m\u001b[1;33m.\u001b[0m\u001b[0mget\u001b[0m\u001b[1;33m(\u001b[0m\u001b[1;34m'label'\u001b[0m\u001b[1;33m)\u001b[0m\u001b[1;33m:\u001b[0m\u001b[1;33m\u001b[0m\u001b[1;33m\u001b[0m\u001b[0m\n\u001b[0;32m    208\u001b[0m                     \u001b[1;32mraise\u001b[0m \u001b[0me\u001b[0m\u001b[1;33m\u001b[0m\u001b[1;33m\u001b[0m\u001b[0m\n\u001b[1;32m--> 209\u001b[1;33m                 \u001b[1;32mraise\u001b[0m \u001b[0mGateApiException\u001b[0m\u001b[1;33m(\u001b[0m\u001b[0merr\u001b[0m\u001b[1;33m.\u001b[0m\u001b[0mget\u001b[0m\u001b[1;33m(\u001b[0m\u001b[1;34m'label'\u001b[0m\u001b[1;33m)\u001b[0m\u001b[1;33m,\u001b[0m \u001b[0merr\u001b[0m\u001b[1;33m.\u001b[0m\u001b[0mget\u001b[0m\u001b[1;33m(\u001b[0m\u001b[1;34m'message'\u001b[0m\u001b[1;33m)\u001b[0m\u001b[1;33m,\u001b[0m \u001b[0merr\u001b[0m\u001b[1;33m.\u001b[0m\u001b[0mget\u001b[0m\u001b[1;33m(\u001b[0m\u001b[1;34m'detail'\u001b[0m\u001b[1;33m)\u001b[0m\u001b[1;33m,\u001b[0m \u001b[0me\u001b[0m\u001b[1;33m)\u001b[0m\u001b[1;33m\u001b[0m\u001b[1;33m\u001b[0m\u001b[0m\n\u001b[0m\u001b[0;32m    210\u001b[0m \u001b[1;33m\u001b[0m\u001b[0m\n\u001b[0;32m    211\u001b[0m         \u001b[0mcontent_type\u001b[0m \u001b[1;33m=\u001b[0m \u001b[0mresponse_data\u001b[0m\u001b[1;33m.\u001b[0m\u001b[0mgetheader\u001b[0m\u001b[1;33m(\u001b[0m\u001b[1;34m'content-type'\u001b[0m\u001b[1;33m)\u001b[0m\u001b[1;33m\u001b[0m\u001b[1;33m\u001b[0m\u001b[0m\n",
      "\u001b[1;31mGateApiException\u001b[0m: (400)\nReason: Bad Request\nHTTP response headers: HTTPHeaderDict({'Date': 'Sun, 06 Feb 2022 04:43:24 GMT', 'Content-Type': 'application/json', 'Content-Length': '121', 'Connection': 'keep-alive', 'Server': 'openresty', 'X-Request-Id': '[7ec88f17-4489354903]'})\nHTTP response body: {\"label\":\"INVALID_PARAM_VALUE\",\"message\":\"Candlestick range too broad. Maximum 1000 data points are allowed per request\"}\n"
     ]
    }
   ],
   "source": [
    "yesterday = datetime.datetime.today() - datetime.timedelta(300)\n",
    "yesterday = int ( time.mktime ( yesterday.timetuple() ) )\n",
    "# current  = spot_api.kline_list_candletrade(currency_pair = 'HBAR_USDT', interval = '4h', _from = yesterday)\n",
    "# current = rebuild_data(current)\n",
    "current = spot_api.list_candlesticks(\n",
    "                currency_pair='HBAR_USDT',\n",
    "                interval='4h',\n",
    "                _from=yesterday,\n",
    "                limit = 500\n",
    "            )\n",
    "current = rebuild_data(current)\n",
    "print(current)"
   ]
  },
  {
   "cell_type": "code",
   "execution_count": 13,
   "metadata": {},
   "outputs": [
    {
     "data": {
      "text/plain": [
       "5"
      ]
     },
     "execution_count": 13,
     "metadata": {},
     "output_type": "execute_result"
    }
   ],
   "source": [
    "weekday = datetime.datetime.strptime(str('02-05'), '%m-%d').day\n",
    "weekday"
   ]
  },
  {
   "cell_type": "code",
   "execution_count": 15,
   "metadata": {},
   "outputs": [
    {
     "name": "stdout",
     "output_type": "stream",
     "text": [
      "                           Volume    close     High      Low     open\n",
      "date                                                                 \n",
      "2022-02-05 11:10:00    982.409965  0.24820  0.24820  0.24769  0.24796\n",
      "2022-02-05 11:15:00  10353.557569  0.24931  0.24933  0.24823  0.24823\n",
      "2022-02-05 11:20:00  27107.281660  0.25047  0.25047  0.24910  0.24910\n",
      "2022-02-05 11:25:00  17479.484817  0.25136  0.25140  0.25021  0.25021\n",
      "2022-02-05 11:30:00  20247.913753  0.25281  0.25298  0.25134  0.25134\n",
      "...                           ...      ...      ...      ...      ...\n",
      "2022-02-06 10:45:00   5554.653399  0.26026  0.26052  0.26021  0.26022\n",
      "2022-02-06 10:50:00   1476.968471  0.26043  0.26043  0.26035  0.26035\n",
      "2022-02-06 10:55:00      0.000000  0.26043  0.26043  0.26043  0.26043\n",
      "2022-02-06 11:00:00   1494.517897  0.25929  0.26021  0.25929  0.26021\n",
      "2022-02-06 11:05:00      0.000000  0.25929  0.25929  0.25929  0.25929\n",
      "\n",
      "[288 rows x 5 columns]\n"
     ]
    }
   ],
   "source": [
    "yesterday = datetime.datetime.today() - datetime.timedelta(1)\n",
    "yesterday = int ( time.mktime ( yesterday.timetuple() ) )\n",
    "current  = spot_api.kline_list_candletrade(currency_pair = 'HBAR_USDT', interval = '5m', _from = yesterday)\n",
    "current = rebuild_data(current)\n",
    "print(current)"
   ]
  },
  {
   "cell_type": "code",
   "execution_count": 4,
   "metadata": {},
   "outputs": [
    {
     "name": "stdout",
     "output_type": "stream",
     "text": [
      "RVC_USDT\n",
      "RVC_USDT\n",
      "1633452188\n",
      "current len  60\n",
      "last_time 2021-12-03 09:00:00 Add_Time 2021-12-04 09:00:00\n",
      "1d\n",
      "시간은 같지만 현재 최근값 \n",
      "RVC_USDT\n",
      "['RVC_USDT']\n"
     ]
    }
   ],
   "source": [
    "print( ticker[0])\n",
    "acc_data = Accumerate_data(ticker = [ticker[0]])\n",
    "print( acc_data.start() )"
   ]
  }
 ],
 "metadata": {
  "interpreter": {
   "hash": "2c135e62ec483ca26e362e6f10a690854d3c7bb358edccd500158165a046d0fe"
  },
  "kernelspec": {
   "display_name": "Python 3.7.6 64-bit ('StockTrader': conda)",
   "language": "python",
   "name": "python3"
  },
  "language_info": {
   "codemirror_mode": {
    "name": "ipython",
    "version": 3
   },
   "file_extension": ".py",
   "mimetype": "text/x-python",
   "name": "python",
   "nbconvert_exporter": "python",
   "pygments_lexer": "ipython3",
   "version": "3.7.6"
  },
  "orig_nbformat": 4
 },
 "nbformat": 4,
 "nbformat_minor": 2
}

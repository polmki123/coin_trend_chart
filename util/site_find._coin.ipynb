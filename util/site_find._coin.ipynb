{
 "cells": [
  {
   "cell_type": "code",
   "execution_count": null,
   "metadata": {},
   "outputs": [],
   "source": [
    "import requests\n",
    "from bs4 import BeautifulSoup\n",
    "\n",
    "url = 'https://www.gate.io/trade/BLOCK_USDT'\n",
    "\n",
    "response = requests.get(url)\n",
    "# 사이트를 통해 모든 코인 데이터를 받아온다. \n",
    "if response.status_code == 200:\n",
    "    html = response.text\n",
    "    soup = BeautifulSoup(html, 'html.parser')\n",
    "    print(soup)\n",
    "\n",
    "else : \n",
    "    print(response.status_code)"
   ]
  },
  {
   "cell_type": "code",
   "execution_count": 1,
   "metadata": {},
   "outputs": [],
   "source": [
    "# !/usr/bin/env python\n",
    "# coding: utf-8\n",
    "import logging\n",
    "import random\n",
    "import os\n",
    "import csv\n",
    "import numpy as np\n",
    "import pandas as pd\n",
    "import datetime \n",
    "import sys\n",
    "import time\n",
    "import threading\n",
    "import concurrent.futures\n",
    "import sqlite3\n",
    "\n",
    "from decimal import Decimal as D, ROUND_UP, getcontext\n",
    "# gate api를 통해 코인 리스트를 가져온다. \n",
    "from gate_api import ApiClient, Configuration, Loan, MarginApi, Order, RepayRequest, SpotApi, Transfer, WalletApi\n",
    "from gate_api.exceptions import GateApiException\n",
    "\n",
    "config = Configuration(key=\"\", secret=\"\")\n",
    "spot_api = SpotApi(ApiClient(config))\n"
   ]
  },
  {
   "cell_type": "code",
   "execution_count": 2,
   "metadata": {},
   "outputs": [],
   "source": [
    "# 코인 리스트 중에서 위의 코인과 비교 진행 \n",
    "# BULL과 BEAR, 3L, 3S \n",
    "# 를 제외한 코인 검색진행 \n",
    "coin_list = spot_api.list_currency_pairs()\n",
    "# print(coin_list)\n",
    "spots = []\n",
    "# find 함수는 있으면 있는 곳의 위치를 없으면 -1 를 반환 만약 첫째 자리에 있다면 0을 반환 \n",
    "for c_l in coin_list :\n",
    "    if c_l.id.find('USDT') != -1 and  c_l.id.find('BULL') == -1 and c_l.id.find('BEAR') == -1 and c_l.id.find('3L') == -1 and c_l.id.find('3S') == -1:\n",
    "        spots.append(c_l.id)\n",
    "    "
   ]
  },
  {
   "cell_type": "code",
   "execution_count": 3,
   "metadata": {},
   "outputs": [],
   "source": [
    "from gateio_market_cur import  *\n",
    "from gateio_coins import * \n",
    "\n",
    "old_coin = marketlist_all\n",
    "# gate io의 코인 리스트 쭉 가져오기\n",
    "all_coin = marketlist_all_currs['spot']"
   ]
  },
  {
   "cell_type": "code",
   "execution_count": 4,
   "metadata": {},
   "outputs": [],
   "source": [
    "new_coinlist = {}\n",
    "for coin in all_coin :\n",
    "    if coin['symbol']+'_USDT' in spots : \n",
    "        # if '3L' in coin['symbol'] :\n",
    "        #     print(coin['symbol'])\n",
    "        new_coinlist[coin['symbol']+'_USDT'] = coin['name_en']"
   ]
  },
  {
   "cell_type": "code",
   "execution_count": null,
   "metadata": {},
   "outputs": [],
   "source": [
    "print(new_coinlist)"
   ]
  },
  {
   "cell_type": "code",
   "execution_count": 7,
   "metadata": {},
   "outputs": [
    {
     "name": "stdout",
     "output_type": "stream",
     "text": [
      "{'GARI_USDT': 'GARI Network', 'ASTR_USDT': 'Astar Token', 'GHC_USDT': 'Galaxy Heroes Coin', 'LOOKS_USDT': 'LooksRare', 'GLMR_USDT': 'Moonbeam Network', 'POKT_USDT': 'Pocket Network', 'SLC_USDT': 'Solice', 'FRR_USDT': 'Frontrow', 'CRTS_USDT': 'Cratos', 'GFI_USDT': 'Goldfinch', 'SFM_USDT': 'SafeMoon', 'ROCO_USDT': 'Roco Finance', 'NOS_USDT': 'Nosana', 'BEYOND_USDT': 'Beyond Protocol', 'ZIG_USDT': 'Zignaly', 'NCT_USDT': 'PolySwarm', 'VOXEL_USDT': 'Voxies', 'CLH_USDT': 'ClearDAO', 'UFI_USDT': 'PureFi', 'KASTA_USDT': 'Kasta', 'SOLO_USDT': 'Sologenic', 'ALPH_USDT': 'Alephium', 'ZODI_USDT': 'Zodium', 'GCOIN_USDT': 'Galaxy Fight Club', 'DOMI_USDT': 'Domi', 'MBS_USDT': 'MonkeyBall', 'REVU_USDT': 'Revuto', 'ISKY_USDT': 'Infinity Skies', 'SVT_USDT': 'Solvent', 'CHICKS_USDT': 'SolChicks', 'APX_USDT': 'ApolloX', 'FRM_USDT': 'Ferrum Network', 'GENS_USDT': 'Genshiro', 'F2C_USDT': 'Ftribe Fighters Coin', 'APT_USDT': 'Apricot', 'ONIT_USDT': 'ONBUFF', 'ARTEM_USDT': 'ARTEM Coin', 'STSOL_USDT': 'Lido Staked SOL', 'SCNSOL_USDT': 'Socean Staked Sol', 'BCHA_USDT': 'BitcoinCashABC', 'GMPD_USDT': 'GamesPad', 'PSY_USDT': 'PsyOptions', 'SENSO_USDT': 'Sensorium', 'SINGLE_USDT': 'Single Finance'}\n"
     ]
    }
   ],
   "source": [
    "# 신규 코인과 현재 저장된 코인에서 공통으로 포함되어 있지 않은 코인은 제거 \n",
    "new_addcoin = {}\n",
    "for n_c in new_coinlist.keys() :\n",
    "    if n_c not in marketlist_all.keys() :\n",
    "        new_addcoin[n_c] = new_coinlist[n_c]\n",
    "    \n",
    "print(new_addcoin)"
   ]
  },
  {
   "cell_type": "code",
   "execution_count": 51,
   "metadata": {},
   "outputs": [
    {
     "data": {
      "text/plain": [
       "[{'id': 1321,\n",
       "  'name': 'Ethereum Classic',\n",
       "  'symbol': 'ETC',\n",
       "  'slug': 'ethereum-classic',\n",
       "  'rank': 41,\n",
       "  'is_active': 1,\n",
       "  'first_historical_data': '2016-07-24T13:44:30.000Z',\n",
       "  'last_historical_data': '2021-12-31T15:59:00.000Z',\n",
       "  'platform': None},\n",
       " {'id': 646,\n",
       "  'name': 'Ethercoin',\n",
       "  'symbol': 'ETC',\n",
       "  'slug': 'ethercoin',\n",
       "  'rank': None,\n",
       "  'is_active': 0,\n",
       "  'first_historical_data': '2014-10-03T12:34:22.000Z',\n",
       "  'last_historical_data': '2015-08-16T13:34:19.000Z',\n",
       "  'platform': None}]"
      ]
     },
     "execution_count": 51,
     "metadata": {},
     "output_type": "execute_result"
    }
   ],
   "source": [
    "checkAPI_coin_id(symbol = 'ETC' )"
   ]
  },
  {
   "cell_type": "code",
   "execution_count": null,
   "metadata": {},
   "outputs": [],
   "source": [
    "# 코인 마켓캡에서 데이터를 가져온다. \n",
    "from coinmarketcap import *\n",
    "# GATEIO의 든 코인의 coinmarketcap id를 가져온다. \n",
    "# 우선 저장된 코인 구별 진행 \n",
    "import time \n",
    "\n",
    "id_list = {}\n",
    "n_c = []\n",
    "for nc in new_addcoin.keys() :\n",
    "    if nc not in coin_cap_id.keys() :\n",
    "        n_c.append(nc)\n",
    "\n",
    "# print(n_c)\n",
    "for cp in n_c :\n",
    "    symbol = cp.replace(\"_USDT\", \"\")\n",
    "    print(symbol)\n",
    "    coin_name = new_addcoin[cp].replace(\" \", \"\").replace(\".\", \"\").replace(\"-\",\"\").replace(\"_\",\"\").lower()\n",
    "    data = checkAPI_coin_id(symbol = symbol )\n",
    "    if data :\n",
    "        if len(data) == 1 :\n",
    "            for _data in data :\n",
    "                print(\"해당됨\")\n",
    "                print(coin_name)\n",
    "                print(_data['slug'].lower().replace(\"-\", \"\").replace(\" \", \"\"))\n",
    "                id_list[cp] = _data['id']\n",
    "                break\n",
    "        else :\n",
    "            for _data in data :\n",
    "                time.sleep(0.2)\n",
    "                if coin_name in _data['slug'].lower().replace(\"-\", \"\").replace(\" \", \"\") or coin_name in _data['name'].replace(\" \",\"\").lower() \\\n",
    "                    or  _data['name'].replace(\" \",\"\").lower() in coin_name or  _data['slug'].replace(\" \",\"\").lower() in coin_name :\n",
    "                    print(\"해당됨\")\n",
    "                    print(coin_name)\n",
    "                    print(_data['slug'].lower().replace(\"-\", \"\").replace(\" \", \"\"))\n",
    "                    id_list[cp] = _data['id']\n",
    "                    break\n",
    "            \n",
    "print(id_list)"
   ]
  },
  {
   "cell_type": "code",
   "execution_count": 30,
   "metadata": {},
   "outputs": [
    {
     "name": "stdout",
     "output_type": "stream",
     "text": [
      "737\n"
     ]
    }
   ],
   "source": [
    "print( len(id_list.keys()) )"
   ]
  },
  {
   "cell_type": "code",
   "execution_count": 8,
   "metadata": {},
   "outputs": [
    {
     "data": {
      "text/plain": [
       "{'status': {'timestamp': '2022-01-19T15:29:48.343Z',\n",
       "  'error_code': 0,\n",
       "  'error_message': None,\n",
       "  'elapsed': 16,\n",
       "  'credit_count': 1,\n",
       "  'notice': None},\n",
       " 'data': {'6535': {'id': 6535,\n",
       "   'name': 'NEAR Protocol',\n",
       "   'symbol': 'NEAR',\n",
       "   'category': 'coin',\n",
       "   'description': 'NEAR Protocol (NEAR) is a cryptocurrency launched in 2020. NEAR Protocol has a current supply of 1,000,000,000 with 617,213,739 in circulation. The last known price of NEAR Protocol is 17.38616033 USD and is up 2.04 over the last 24 hours. It is currently trading on 88 active market(s) with $921,895,821.20 traded over the last 24 hours. More information can be found at https://near.org/.',\n",
       "   'slug': 'near-protocol',\n",
       "   'logo': 'https://s2.coinmarketcap.com/static/img/coins/64x64/6535.png',\n",
       "   'subreddit': '',\n",
       "   'notice': 'Learn more about \"[Near Protocol](https://coinmarketcap.com/earn/project/near-protocol)\" & Earn $NEAR',\n",
       "   'tags': ['platform',\n",
       "    'staking',\n",
       "    'binance-smart-chain',\n",
       "    'coinbase-ventures-portfolio',\n",
       "    'arrington-xrp-capital-portfolio',\n",
       "    'coinfund-portfolio',\n",
       "    'electric-capital-portfolio',\n",
       "    'fabric-ventures-portfolio',\n",
       "    'kenetic-capital-portfolio',\n",
       "    'near-protocol-ecosystem'],\n",
       "   'tag-names': ['Platform',\n",
       "    'Staking',\n",
       "    'Binance Smart Chain Ecosystem',\n",
       "    'Coinbase Ventures Portfolio',\n",
       "    'Arrington XRP Capital Portfolio',\n",
       "    'Coinfund Portfolio',\n",
       "    'Electric Capital Portfolio',\n",
       "    'Fabric Ventures Portfolio',\n",
       "    'Kenetic Capital Portfolio',\n",
       "    'Near Protocol Ecosystem'],\n",
       "   'tag-groups': ['CATEGORY',\n",
       "    'CATEGORY',\n",
       "    'PLATFORM',\n",
       "    'CATEGORY',\n",
       "    'CATEGORY',\n",
       "    'CATEGORY',\n",
       "    'CATEGORY',\n",
       "    'CATEGORY',\n",
       "    'CATEGORY',\n",
       "    'CATEGORY'],\n",
       "   'urls': {'website': ['https://near.org/'],\n",
       "    'twitter': ['https://twitter.com/NEARProtocol'],\n",
       "    'message_board': ['https://near.org/blog/',\n",
       "     'https://medium.com/nearprotocol'],\n",
       "    'chat': ['https://t.me/cryptonear', 'https://near.org/wechat/'],\n",
       "    'facebook': [],\n",
       "    'explorer': ['https://explorer.near.org/',\n",
       "     'https://hubble.figment.io/near/chains/mainnet',\n",
       "     'https://bscscan.com/token/0x1fa4a73a3f0133f0025378af00236f3abdee5d63'],\n",
       "    'reddit': [],\n",
       "    'technical_doc': [],\n",
       "    'source_code': ['https://github.com/nearprotocol/nearcore'],\n",
       "    'announcement': []},\n",
       "   'platform': None,\n",
       "   'date_added': '2020-08-11T00:00:00.000Z',\n",
       "   'twitter_username': 'NEARProtocol',\n",
       "   'is_hidden': 0,\n",
       "   'date_launched': '2020-10-14T00:00:00.000Z',\n",
       "   'contract_address': [{'contract_address': '0x1fa4a73a3f0133f0025378af00236f3abdee5d63',\n",
       "     'platform': {'name': 'Binance Smart Chain (BEP20)',\n",
       "      'coin': {'id': '1839', 'name': 'BNB', 'symbol': 'BNB', 'slug': 'bnb'}}}],\n",
       "   'self_reported_circulating_supply': None,\n",
       "   'self_reported_tags': None}}}"
      ]
     },
     "execution_count": 8,
     "metadata": {},
     "output_type": "execute_result"
    }
   ],
   "source": [
    "# 코인 마켓캡에서 데이터를 가져온다. \n",
    "from coinmarketcap import *\n",
    "# GATEIO의 든 코인의 coinmarketcap id를 가져온다. \n",
    "# 우선 저장된 코인 구별 진행 \n",
    "import time \n",
    "\n",
    "data = checkAPI_coin_id(symbol = 'near' )\n",
    "\n",
    "data = checkAPI_info( [ 6535 ] )\n",
    "data"
   ]
  },
  {
   "cell_type": "code",
   "execution_count": 26,
   "metadata": {},
   "outputs": [
    {
     "name": "stdout",
     "output_type": "stream",
     "text": [
      "2\n",
      "[3, 4, 2, 4, 5, 6, 6]\n",
      "{1, 2, 3, 4, 5, 6}\n"
     ]
    }
   ],
   "source": [
    "a = { 'a' : [1,2,3,4], 'b' : [3,4,2,4,5,6,6]}\n",
    "print(len(a))\n",
    "s = set()\n",
    "for _a in a :\n",
    "    s.update( a[_a])\n",
    "\n",
    "print( a[max( a, key= lambda x : len(set(a[x])) )]  )\n",
    "print(s)"
   ]
  }
 ],
 "metadata": {
  "interpreter": {
   "hash": "2c135e62ec483ca26e362e6f10a690854d3c7bb358edccd500158165a046d0fe"
  },
  "kernelspec": {
   "display_name": "Python 3.7.6 64-bit ('StockTrader': conda)",
   "language": "python",
   "name": "python3"
  },
  "language_info": {
   "codemirror_mode": {
    "name": "ipython",
    "version": 3
   },
   "file_extension": ".py",
   "mimetype": "text/x-python",
   "name": "python",
   "nbconvert_exporter": "python",
   "pygments_lexer": "ipython3",
   "version": "3.7.6"
  },
  "orig_nbformat": 4
 },
 "nbformat": 4,
 "nbformat_minor": 2
}
